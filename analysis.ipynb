{
 "cells": [
  {
   "cell_type": "code",
   "execution_count": 1,
   "metadata": {},
   "outputs": [
    {
     "name": "stdout",
     "output_type": "stream",
     "text": [
      "                    guid                                     inventionTitle  \\\n",
      "20000  US-20170067712-A9  SHOT INDICATING RESETTING TRIGGER FIREARM TRAI...   \n",
      "\n",
      "              datePublished  \\\n",
      "20000  2017-03-09T00:00:00Z   \n",
      "\n",
      "                                           inventorsName  \\\n",
      "20000  ['Hughes; Michael F.', 'Kettlestrings; Jack', ...   \n",
      "\n",
      "                                            inventorCity  \\\n",
      "20000  ['Maple Falls', 'Everson', 'Ferndale', 'Bellin...   \n",
      "\n",
      "                  inventorState assigneeName assigneeCity assigneeState  \\\n",
      "20000  ['WA', 'WA', 'WA', 'WA']          NaN          NaN           NaN   \n",
      "\n",
      "                         cpcInventiveFlattened  \n",
      "20000  F41A19/69;F41A19/16;F41A33/02;F41A19/12  \n"
     ]
    }
   ],
   "source": [
    "from patent_data_fetcher import *\n",
    "from patent_analysis import *\n",
    "\n",
    "fetcher = Fetcher()\n",
    "ids = [\"US-20170067712-A9\"]\n",
    "print(fetcher.get_basics(ids))"
   ]
  },
  {
   "cell_type": "code",
   "execution_count": 2,
   "metadata": {},
   "outputs": [
    {
     "name": "stdout",
     "output_type": "stream",
     "text": [
      "[8697, 8698, 8699, 8700, 8701, 8702, 8732, 8733, 8734, 8735, 8736, 8737, 8738]\n",
      "8697.png was saved.\n",
      "8698.png was saved.\n",
      "8699.png was saved.\n",
      "8700.png was saved.\n",
      "8701.png was saved.\n",
      "8702.png was saved.\n",
      "8732.png was saved.\n",
      "8733.png was saved.\n",
      "8734.png was saved.\n",
      "8735.png was saved.\n",
      "8736.png was saved.\n",
      "8737.png was saved.\n",
      "8738.png was saved.\n"
     ]
    }
   ],
   "source": [
    "ids = [\"US-0441389-A\", \"US-0442014-A\"]\n",
    "output_folder = \"output_test\"\n",
    "fetcher.query_img(ids, output_folder)"
   ]
  },
  {
   "cell_type": "code",
   "execution_count": 3,
   "metadata": {},
   "outputs": [
    {
     "name": "stdout",
     "output_type": "stream",
     "text": [
      "['US-2235350-A', 'US-4061249-A', 'US-4135645-A', 'US-5924601-A', 'US-6123228-A', 'US-6126040-A', 'US-6135321-A', 'US-6540107-B1', 'US-2002/0170927-A1', 'US-2009/0134184-A1', 'US-2010/0050690-A1', 'US-2011/0139823-A1', 'US-2012/0138637-A1', 'US-2013/0320104-A1']\n",
      "['US-10001340-B1', 'US-10345069-B2', 'US-10900734-B2', 'US-10928146-B2', 'US-11359877-B2', 'US-8783155-B2', 'US-9658010-B1', 'US-9677837-B2', 'US-7698849-B2']\n"
     ]
    }
   ],
   "source": [
    "print(fetcher.get_citations(\"US-10921097-B1\"))\n",
    "print(fetcher.get_cited_by(\"US-5992291-A\"))"
   ]
  },
  {
   "cell_type": "code",
   "execution_count": 4,
   "metadata": {},
   "outputs": [
    {
     "name": "stdout",
     "output_type": "stream",
     "text": [
      "31382\n"
     ]
    }
   ],
   "source": [
    "requirements = (\"1950-01-01\", \"2015-12-31\")\n",
    "print(len(fetcher.subset_patents(\"datePublished\", requirements)))\n",
    "# export_to_temp(fetcher.subset_patents(\"datePublished\", requirements), \"1950-2015\")"
   ]
  },
  {
   "cell_type": "code",
   "execution_count": 5,
   "metadata": {},
   "outputs": [
    {
     "name": "stdout",
     "output_type": "stream",
     "text": [
      "152\n"
     ]
    }
   ],
   "source": [
    "requirements = [\"Richard L.\", \"Marshfield\"] \n",
    "print(len(fetcher.subset_patents(\"inventorsName\", requirements)))"
   ]
  },
  {
   "cell_type": "code",
   "execution_count": 6,
   "metadata": {},
   "outputs": [
    {
     "name": "stdout",
     "output_type": "stream",
     "text": [
      "1882\n"
     ]
    }
   ],
   "source": [
    "requirements = [\"CT\", \"MA\"]\n",
    "print(len(fetcher.subset_patents(\"inventorState\", requirements)))"
   ]
  },
  {
   "cell_type": "code",
   "execution_count": 1,
   "metadata": {},
   "outputs": [],
   "source": [
    "import pandas as pd"
   ]
  },
  {
   "cell_type": "code",
   "execution_count": 3,
   "metadata": {},
   "outputs": [],
   "source": [
    "e_list = pd.read_csv(\"data/edge_list.csv\")"
   ]
  },
  {
   "cell_type": "code",
   "execution_count": 5,
   "metadata": {},
   "outputs": [],
   "source": [
    "childs = set(e_list[\"child\"])"
   ]
  },
  {
   "cell_type": "code",
   "execution_count": 6,
   "metadata": {},
   "outputs": [
    {
     "data": {
      "text/plain": [
       "7050"
      ]
     },
     "execution_count": 6,
     "metadata": {},
     "output_type": "execute_result"
    }
   ],
   "source": [
    "len(childs)"
   ]
  },
  {
   "cell_type": "code",
   "execution_count": 8,
   "metadata": {},
   "outputs": [
    {
     "data": {
      "text/plain": [
       "['US-8720095-B2',\n",
       " 'US-8857097-B2',\n",
       " 'US-9557125-B2',\n",
       " 'US-8025230-B2',\n",
       " 'US-11027501-B2',\n",
       " 'US-9885540-B2',\n",
       " 'US-9631882-B2',\n",
       " 'US-9250035-B2',\n",
       " 'US-7280340-B2',\n",
       " 'US-7721480-B2',\n",
       " 'US-8863432-B2',\n",
       " 'US-7908782-B1',\n",
       " 'US-10281551-B2',\n",
       " 'US-10578402-B1',\n",
       " 'US-9939216-B2',\n",
       " 'US-10794656-B2',\n",
       " 'US-7012797-B1',\n",
       " 'US-10137979-B1',\n",
       " 'US-9121614-B2',\n",
       " 'US-11247115-B2',\n",
       " 'US-7325319-B2',\n",
       " 'US-11480409-B2',\n",
       " 'US-7832135-B1',\n",
       " 'US-9851174-B1',\n",
       " 'US-9612069-B2',\n",
       " 'US-7717024-B2',\n",
       " 'US-7967237-B2',\n",
       " 'US-11473876-B2',\n",
       " 'US-8397417-B2',\n",
       " 'US-9143663-B2',\n",
       " 'US-8402684-B1',\n",
       " 'US-11092396-B1',\n",
       " 'US-8161674-B2',\n",
       " 'US-9644911-B1',\n",
       " 'US-11448480-B2',\n",
       " 'US-8887617-B2',\n",
       " 'US-11193731-B2',\n",
       " 'US-8919025-B2',\n",
       " 'US-7963061-B2',\n",
       " 'US-11460259-B2',\n",
       " 'US-7516961-B1',\n",
       " 'US-7859650-B2',\n",
       " 'US-7703229-B2',\n",
       " 'US-9273943-B1',\n",
       " 'US-7552557-B1',\n",
       " 'US-9864089-B2',\n",
       " 'US-7813888-B2',\n",
       " 'US-7178443-B2',\n",
       " 'US-8201354-B2',\n",
       " 'US-10996023-B2',\n",
       " 'US-9267751-B2',\n",
       " 'US-11585637-B2',\n",
       " 'US-10612876-B2',\n",
       " 'US-7999228-B2',\n",
       " 'US-7237355-B2',\n",
       " 'US-8069603-B2',\n",
       " 'US-9228799-B2',\n",
       " 'US-11378354-B1',\n",
       " 'US-9423195-B2',\n",
       " 'US-8530363-B2',\n",
       " 'US-10065095-B2',\n",
       " 'US-7806036-B2',\n",
       " 'US-7357063-B2',\n",
       " 'US-7469903-B2',\n",
       " 'US-10065720-B2',\n",
       " 'US-9182194-B2',\n",
       " 'US-8490308-B2',\n",
       " 'US-9611017-B2',\n",
       " 'US-9683800-B2',\n",
       " 'US-9939223-B1',\n",
       " 'US-7562479-B2',\n",
       " 'US-8745911-B2',\n",
       " 'US-7140142-B2',\n",
       " 'US-8307577-B2',\n",
       " 'US-9175917-B2',\n",
       " 'US-7886469-B2',\n",
       " 'US-8020335-B2',\n",
       " 'US-11450098-B2',\n",
       " 'US-9239214-B2',\n",
       " 'US-7292501-B2',\n",
       " 'US-7685862-B1',\n",
       " 'US-9016520-B2',\n",
       " 'US-10161703-B2',\n",
       " 'US-7066072-B2',\n",
       " 'US-10890397-B2',\n",
       " 'US-10365069-B1',\n",
       " 'US-11385028-B1',\n",
       " 'US-10251440-B1',\n",
       " 'US-11128712-B2',\n",
       " 'US-9115956-B2',\n",
       " 'US-7470056-B2',\n",
       " 'US-9243866-B2',\n",
       " 'US-7913441-B1',\n",
       " 'US-7594463-B2',\n",
       " 'US-11578937-B2',\n",
       " 'US-11346630-B2',\n",
       " 'US-9448035-B2',\n",
       " 'US-6993206-B2',\n",
       " 'US-8966806-B2',\n",
       " 'US-7503829-B2']"
      ]
     },
     "execution_count": 8,
     "metadata": {},
     "output_type": "execute_result"
    }
   ],
   "source": [
    "list(childs)[:100]"
   ]
  },
  {
   "cell_type": "code",
   "execution_count": null,
   "metadata": {},
   "outputs": [],
   "source": []
  }
 ],
 "metadata": {
  "kernelspec": {
   "display_name": "Python 3",
   "language": "python",
   "name": "python3"
  },
  "language_info": {
   "codemirror_mode": {
    "name": "ipython",
    "version": 3
   },
   "file_extension": ".py",
   "mimetype": "text/x-python",
   "name": "python",
   "nbconvert_exporter": "python",
   "pygments_lexer": "ipython3",
   "version": "3.11.8"
  }
 },
 "nbformat": 4,
 "nbformat_minor": 2
}
