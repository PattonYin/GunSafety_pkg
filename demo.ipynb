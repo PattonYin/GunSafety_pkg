{
 "cells": [
  {
   "cell_type": "markdown",
   "metadata": {},
   "source": [
    "### How do firearm innovaitons incorporate with safety?"
   ]
  },
  {
   "cell_type": "code",
   "execution_count": 1,
   "metadata": {},
   "outputs": [],
   "source": [
    "import pandas as pd\n",
    "from keyword_analysis import Keyword_Analysis\n",
    "from patent_descriptive import *"
   ]
  },
  {
   "cell_type": "code",
   "execution_count": 2,
   "metadata": {},
   "outputs": [],
   "source": [
    "# import the dataset\n",
    "sample_abstract = pd.read_csv('./data/raw/sample_abstract.csv')\n",
    "# create an object\n",
    "KA = Keyword_Analysis(data=sample_abstract, num_keywords = 7, \n",
    "                      catch_word=[\"safe\", \"secure\", \"security\", \"safety\"])"
   ]
  },
  {
   "cell_type": "code",
   "execution_count": 3,
   "metadata": {},
   "outputs": [
    {
     "name": "stderr",
     "output_type": "stream",
     "text": [
      "  0%|          | 0/50 [00:00<?, ?it/s]"
     ]
    },
    {
     "name": "stderr",
     "output_type": "stream",
     "text": [
      "100%|██████████| 50/50 [00:02<00:00, 18.42it/s]"
     ]
    },
    {
     "name": "stdout",
     "output_type": "stream",
     "text": [
      "                guid                                       abstractHtml  \\\n",
      "0       US-RE46480-E  The present invention is a laser ranging devic...   \n",
      "1  US-20180299217-A1  A firearm includes a barrel portion, a slide, ...   \n",
      "2  US-20150241176-A1  In a method for visually adaptively camouflagi...   \n",
      "3  US-20140053353-A1  The present invention relates to a cleaning ap...   \n",
      "4      US-6659096-B1  A split-buss-cable single-cam compound archery...   \n",
      "\n",
      "                                     descriptionHtml  \\\n",
      "0  BRIEF DESCRIPTION OF THE DRAWINGS<br />(1) <fi...   \n",
      "1  BRIEF DESCRIPTION OF THE FIGURES<br />[0008] <...   \n",
      "2  [0012] The invention will now be explained in ...   \n",
      "3  BRIEF DESCRIPTION OF THE SEVERAL VIEWS OF THE ...   \n",
      "4  Additional objects and advantages of the prese...   \n",
      "\n",
      "                                             keyword  \n",
      "0  [laser pulse return, laser pulse, pulse return...  \n",
      "1  [figref idrefDRAWINGSFIG, firearm, magazine, e...  \n",
      "2  [LED, camouflage, FIG, LED array, LED strips, ...  \n",
      "3  [slant cleaning parts, cartridge chamber, para...  \n",
      "4  [split buss cable, buss cable ends, buss cable...  \n"
     ]
    },
    {
     "name": "stderr",
     "output_type": "stream",
     "text": [
      "\n"
     ]
    }
   ],
   "source": [
    "# get keywords\n",
    "keyword = KA.get_keywords()\n",
    "print(keyword.head())"
   ]
  },
  {
   "cell_type": "code",
   "execution_count": 4,
   "metadata": {},
   "outputs": [
    {
     "name": "stderr",
     "output_type": "stream",
     "text": [
      "100%|██████████| 50/50 [00:00<00:00, 140.83it/s]"
     ]
    },
    {
     "name": "stdout",
     "output_type": "stream",
     "text": [
      "                 guid                                       abstractHtml  \\\n",
      "0        US-RE46480-E  The present invention is a laser ranging devic...   \n",
      "1   US-20180299217-A1  A firearm includes a barrel portion, a slide, ...   \n",
      "2   US-20150241176-A1  In a method for visually adaptively camouflagi...   \n",
      "3   US-20140053353-A1  The present invention relates to a cleaning ap...   \n",
      "4       US-6659096-B1  A split-buss-cable single-cam compound archery...   \n",
      "5   US-20140190341-A1  An a munition magazine and gun/magazine system...   \n",
      "6      US-10859339-B2  An archery riser and method are disclosed here...   \n",
      "7      US-11248890-B2  A projectile launching system can include a pr...   \n",
      "8      US-10731949-B2  A removable ballistic desk top is mated to a d...   \n",
      "9   US-20200386519-A1  The present invention relates to a firearm aim...   \n",
      "10  US-20040217141-A1  A concealed holster for a weapon, characterize...   \n",
      "11  US-20060026880-A1  An indicia for marking on an object, such as a...   \n",
      "12      US-6993864-B1  A locking block mechanism for a compact semiau...   \n",
      "13       US-5052272-A  A method of propelling a projectile from a dev...   \n",
      "14       US-1039182-A                                                NaN   \n",
      "15      US-8634065-B2  A method for operating a jamming laser in a DI...   \n",
      "16       US-0012522-A                                                NaN   \n",
      "17       US-0299302-A                                                NaN   \n",
      "18  US-20010054503-A1  An element having an electrically adjustable t...   \n",
      "19       US-3936148-A  A head-up display unit for use for example in ...   \n",
      "20  US-20110308127-A1  A system is for evacuating cartridges, applied...   \n",
      "21      US-9316460-B2  A sight device includes a mounting base for de...   \n",
      "22       US-1565837-A                                                NaN   \n",
      "23       US-4738183-A  An improved magazine and method of its manufac...   \n",
      "24      US-8807272-B2  A sound suppressor for firearms (such as hand ...   \n",
      "25  US-20050116926-A1  A device for providing user input to a compute...   \n",
      "26       US-5261674-A  A rolling target is made from a heavy duty ind...   \n",
      "27       US-1650940-A                                                NaN   \n",
      "28  US-20200309489-A1  The invention relates to a decoy (<b>3</b>) fo...   \n",
      "29       US-0420068-A                                                NaN   \n",
      "30  US-20080148930-A1  A protective device and protective measure for...   \n",
      "31     US-11009311-B2  The present disclosure provides an energy stor...   \n",
      "32       US-5396877-A  An attachment for converting an air-pressure w...   \n",
      "33      US-9459067-B1  A modified fletching groove for a crossbow tha...   \n",
      "34  US-20130305581-A1  An attachment assembly for securing a sling to...   \n",
      "35  US-20080121652-A1  A squirting toy is comprised of a cylindrical ...   \n",
      "36  US-20060063136-A1  A bolt locking assembly for a weapon simulator...   \n",
      "37  US-20140259249-A1  An armor plate carrier is provided to receive ...   \n",
      "38     US-11292608-B2  An unmanned vehicle capable of operating in ha...   \n",
      "39      US-9488432-B2  A revolver has a spring biased rod that extend...   \n",
      "40  US-20120047786-A1  A modular firearm is disclosed. The firearm th...   \n",
      "41  US-20140076141-A1  Reactive armor that includes a casing having a...   \n",
      "42  US-20150204631-A1  In at least one embodiment, a crossbow compris...   \n",
      "43       US-4887582-A  There is disclosed a pulley mechanism for a co...   \n",
      "44       US-3065967-A                                                NaN   \n",
      "45      US-9448044-B1  A moving target device is disclosed having a t...   \n",
      "46       US-2135549-A                                                NaN   \n",
      "47       US-4007931-A  A hand weapon comprising a pair of hollow memb...   \n",
      "48       US-3054351-A                                                NaN   \n",
      "49     US-10088280-B2  A portable control module autonomously positio...   \n",
      "\n",
      "                                      descriptionHtml  safe  secure  security  \\\n",
      "0   BRIEF DESCRIPTION OF THE DRAWINGS<br />(1) <fi...     1       0         0   \n",
      "1   BRIEF DESCRIPTION OF THE FIGURES<br />[0008] <...     0       0         0   \n",
      "2   [0012] The invention will now be explained in ...     0       0         0   \n",
      "3   BRIEF DESCRIPTION OF THE SEVERAL VIEWS OF THE ...     0       0         0   \n",
      "4   Additional objects and advantages of the prese...     0       0         0   \n",
      "5   BRIEF DESCRIPTION OF THE DRAWINGS<br />[0016] ...     0       0         0   \n",
      "6   BRIEF DESCRIPTION OF THE DRAWINGS<br />(1) <fi...     0       2         0   \n",
      "7   BRIEF DESCRIPTION OF THE DRAWINGS<br />(1) The...     0       0         0   \n",
      "8   BRIEF DESCRIPTION OF THE DRAWINGS<br />(1) <fi...     0       0         0   \n",
      "9   BRIEF DESCRIPTION OF THE FIGURES<br />[0023] <...     0       0         0   \n",
      "10  BRIEF DESCRIPTION OF THE SUMMARY <br />[0003] ...     0       0         0   \n",
      "11  BRIEF DESCRIPTION OF THE DRAWINGS <br />[0024]...     0       2         9   \n",
      "12  (1) BRIEF DESCRIPTION OF THE DRAWINGS<br />(2)...     0       2         0   \n",
      "13  BRIEF DESCRIPTION OF THE DRAWINGS<br />A more ...     0       0         0   \n",
      "14  (1) nments in magazine fire arms, the primary ...     0       0         0   \n",
      "15  (1) BRIEF DESCRIPTION OF THE DRAWING FIGURE<br...     0       0         0   \n",
      "16  (1) ob aft iii/i m it nmay con cerii Be it kno...     0       0         0   \n",
      "17  (1) 2O abb whwn77 It 7flztU Comeern'7:<br />(2...     0       0         0   \n",
      "18  [0025] Other objects, advantages and novel fea...     0       0         0   \n",
      "19  (1) Referring now to the FIGS. 1 to 3, a pilot...     0       0         0   \n",
      "20  BRIEF DESCRIPTION OF THE DRAWINGS<br />[0013] ...     0       0         0   \n",
      "21  BRIEF DESCRIPTION OF THE DRAWINGS<br />(1) <fi...     0       0         0   \n",
      "22  (1) THtOMAS HERBERT WEDS TER, OF LONDON, ENGLA...     0       0         0   \n",
      "23  BRIEF DESCRIPTION OF THE DRAWINGS<br />FIG. 1 ...     0       1         0   \n",
      "24  (1) BRIEF DESCRIPTION OF THE DRAWINGS<br />(2)...     0       0         0   \n",
      "25  BRIEF DESCRIPTION OF THE DRAWINGS <br />[0017]...     0       0         0   \n",
      "26  BRIEF DESCRIPTION OF THE DRAWINGS<br />FIG. 1 ...     0       0         0   \n",
      "27  JNITED STATE<br />(1) JOSEPH Xl. HILL, OF OEL....     0       0         0   \n",
      "28  BRIEF DESCRIPTION OF THE DRAWINGS<br />[0020] ...     0       0         0   \n",
      "29  (1) To '17,0607n, i nia~y eorflCefl:<br />(2) ...     0       2         0   \n",
      "30  BRIEF DESCRIPTION OF THE DRAWINGS<br />[0019] ...     0       0         0   \n",
      "31  BRIEF DESCRIPTION OF THE DRAWINGS<br />(1) The...     0       0         0   \n",
      "32  BRIEF DESCRIPTION OF THE DRAWING<br />The FIGU...     0       0         0   \n",
      "33  BRIEF DESCRIPTION OF THE DRAWINGS<br />(1) <fi...     0       0         0   \n",
      "34  BRIEF DESCRIPTION OF THE DRAWINGS<br />[0019] ...     0       1         0   \n",
      "35  BRIEF DESCRIPTION OF THE DRAWINGS<br />[0014] ...     1       0         0   \n",
      "36  BRIEF DESCRIPTION OF THE DRAWINGS <br />[0018]...     0       0         0   \n",
      "37  BRIEF DESCRIPTION OF THE DRAWINGS<br />[0007] ...     0      12         0   \n",
      "38  BRIEF DESCRIPTION OF THE DRAWINGS<br />(1) The...     2       0         0   \n",
      "39  BRIEF DESCRIPTION OF THE DRAWINGS<br />(1) The...     0       0         0   \n",
      "40  DESCRIPTION OF THE FIGURES<br />[0010] The FIG...     0       6         0   \n",
      "41  BRIEF DESCRIPTION OF THE DRAWINGS<br />[0016] ...     0       0         0   \n",
      "42  BRIEF DESCRIPTION OF THE DRAWINGS<br />[0013] ...     0       0         0   \n",
      "43  BRIEF DESCRIPTION OF THE DRAWINGS<br />For a f...     0       0         0   \n",
      "44  (1) 3,065,967<br />TOW TARGET<br />(2) [ichnel...     0       0         0   \n",
      "45  BRIEF DESCRIPTION OF THE DRAWINGS<br />(1) <fi...     1       2         0   \n",
      "46  (1) r-, v~ iv<br />UNITED STATES PATENT OFFICE...     0       0         0   \n",
      "47  DRAWING SUMMARY<br />FIG. 1 is a perspective v...     0       0         0   \n",
      "48                                                NaN     0       0         0   \n",
      "49  BRIEF DESCRIPTION OF THE DRAWINGS<br />(1) Oth...     0       0         0   \n",
      "\n",
      "    safety                                            keyword  \n",
      "0        0  {'laser pulse return': 25, 'laser pulse': 33, ...  \n",
      "1        0  {'figref idrefDRAWINGSFIG': 32, 'firearm': 61,...  \n",
      "2        0  {'LED': 12, 'camouflage': 16, 'FIG': 8, 'LED a...  \n",
      "3        0  {'slant cleaning parts': 8, 'cartridge chamber...  \n",
      "4        0  {'split buss cable': 20, 'buss cable ends': 17...  \n",
      "5        0  {'FIG': 36, 'magazine': 78, 'helical ramp': 31...  \n",
      "6        0  {'figref idrefDRAWINGSFIG': 206, 'figref': 236...  \n",
      "7        0  {'figref idrefDRAWINGSFIG': 24, 'projectile': ...  \n",
      "8        0  {'desk top': 21, 'figref idrefDRAWINGSFIG': 15...  \n",
      "9        0  {'figref idrefDRAWINGSFIG': 29, 'device': 37, ...  \n",
      "10       0  {'concealed holster illustrated': 9, 'conceale...  \n",
      "11       0  {'Code Marking Indicia': 48, 'marking indicia'...  \n",
      "12       0  {'locking block': 23, 'guide rails': 25, 'FIG'...  \n",
      "13       0  {'aluminum fuel powder': 14, 'aluminum fuel': ...  \n",
      "14       0  {'magazine extension adapted': 1, 'magazine fi...  \n",
      "15       0  {'DIRCM system': 3, 'DETAILED DESCRIPTIONbr': ...  \n",
      "16       0  {'State of Connecticut': 1, 'Fairfield and Sta...  \n",
      "17       0  {'THORSTEN NOEtDEN FELT': 1, 'Guns Specially A...  \n",
      "18       0  {'detailed description': 1, 'function layer': ...  \n",
      "19       0  {'prism assembly': 31, 'cathode ray tube': 25,...  \n",
      "20       6  {'tray': 73, 'position': 55, 'movement mechani...  \n",
      "21       0  {'mounting base': 61, 'sight': 107, 'light uni...  \n",
      "22       0  {'HERBERT WEDS TER': 1, 'AMMUNITION SUPPLY API...  \n",
      "23       0  {'FIG': 17, 'magazine': 25, 'shown in FIG': 5,...  \n",
      "24       0  {'FIG': 71, 'end cap': 33, 'end': 51, 'shown i...  \n",
      "25       0  {'grip member': 36, 'member': 65, 'computer mo...  \n",
      "26       0  {'rolling ground target': 6, 'FIG': 22, 'rolli...  \n",
      "27       0  {'bulls eye plate': 5, 'bulls eye': 10, 'Rods'...  \n",
      "28       1  {'figref idrefDRAWINGSFIG': 8, 'molded body': ...  \n",
      "29       0  {'State of Connecticut': 1, 'Haven and State':...  \n",
      "30       0  {'ARM': 11, 'radar': 12, 'FIG': 8, 'detailed d...  \n",
      "31       0  {'power assisted bow': 60, 'power assisted': 6...  \n",
      "32       0  {'DETAILED DESCRIPTION': 1, 'barrel portion': ...  \n",
      "33       0  {'fletching groove': 27, 'modified fletching g...  \n",
      "34       0  {'FIG': 69, 'enlarged head member': 38, 'shown...  \n",
      "35       1  {'FIG': 19, 'squirting toy': 10, 'toy': 19, 'p...  \n",
      "36       0  {'bolt locking assembly': 7, 'weapon simulator...  \n",
      "37       0  {'support section': 97, 'rear support section'...  \n",
      "38       0  {'aerial platform': 49, 'unmanned aerial vehic...  \n",
      "39       4  {'upper frame portion': 12, 'frame portion': 1...  \n",
      "40       0  {'bolt assembly': 46, 'bolt': 144, 'FIG': 54, ...  \n",
      "41       0  {'explosive': 78, 'FIG': 33, 'sheets': 72, 'fi...  \n",
      "42       0  {'embodiments': 104, 'cable': 89, 'FIG': 33, '...  \n",
      "43       1  {'pulley': 46, 'FIG': 19, 'pulley system': 8, ...  \n",
      "44       0  {'switch': 38, 'signals': 34, 'adjustable time...  \n",
      "45       0  {'moving target device': 32, 'target device': ...  \n",
      "46       0  {'UNITED STATES PATENT': 1, 'STATES PATENT OFF...  \n",
      "47       0  {'FIG': 11, 'outer end': 7, 'end': 19, 'DRAWIN...  \n",
      "48       0                                               <NA>  \n",
      "49       1  {'control module': 58, 'hit detection module':...  \n"
     ]
    },
    {
     "name": "stderr",
     "output_type": "stream",
     "text": [
      "\n"
     ]
    }
   ],
   "source": [
    "fck = KA.get_word_count(catch_word = True, keyword = True)\n",
    "print(fck)"
   ]
  },
  {
   "cell_type": "code",
   "execution_count": 5,
   "metadata": {},
   "outputs": [
    {
     "name": "stderr",
     "output_type": "stream",
     "text": [
      "/Users/liusimin/Desktop/Gun Safety/python_code/GunSafety_pkg/patent_descriptive.py:25: UserWarning: Could not infer format, so each element will be parsed individually, falling back to `dateutil`. To ensure parsing is consistent and as-expected, please specify a format.\n",
      "  data['applicationFilingDate'] = pd.to_datetime(data['applicationFilingDate'], errors = 'coerce')\n"
     ]
    }
   ],
   "source": [
    "# import dataset\n",
    "pd_data = pd.read_csv('./data/raw/patents.csv')\n",
    "# merge the dataset\n",
    "data = pd.merge(fck, pd_data, on='guid', how='left')\n",
    "# reformat the dataset\n",
    "data = reformat(data)"
   ]
  },
  {
   "cell_type": "code",
   "execution_count": 6,
   "metadata": {},
   "outputs": [
    {
     "name": "stdout",
     "output_type": "stream",
     "text": [
      "Frequency table for 'inventorState':\n",
      "   inventorState  Frequency\n",
      "0             CA         10\n",
      "1             MA          4\n",
      "2             TN          4\n",
      "3             OK          3\n",
      "4             KY          3\n",
      "5             MN          3\n",
      "6             GA          3\n",
      "7             NH          2\n",
      "8             VA          2\n",
      "9             AZ          2\n",
      "10            OR          2\n",
      "11            IL          1\n",
      "12            NV          1\n",
      "13            WY          1\n",
      "14            IN          1\n",
      "15            LA          1\n",
      "16            MD          1\n",
      "17            NY          1\n",
      "18            WI          1\n",
      "19            CO          1\n"
     ]
    },
    {
     "data": {
      "text/plain": [
       "<Figure size 2000x1500 with 0 Axes>"
      ]
     },
     "metadata": {},
     "output_type": "display_data"
    },
    {
     "data": {
      "image/png": "[encoded data removed]",
      "text/plain": [
       "<Figure size 640x480 with 1 Axes>"
      ]
     },
     "metadata": {},
     "output_type": "display_data"
    },
    {
     "name": "stdout",
     "output_type": "stream",
     "text": [
      "  inventorState  Frequency\n",
      "0            CA         10\n",
      "1            MA          4\n",
      "2            TN          4\n",
      "3            OK          3\n",
      "4            KY          3\n"
     ]
    }
   ],
   "source": [
    "inventor_state = clean_by(data, 'inventorState')\n",
    "ifd = frequency(data = inventor_state, column = 'inventorState', num = 20, figsize=(20,15), color = 'slateblue')\n",
    "print(ifd.head())"
   ]
  }
 ],
 "metadata": {
  "kernelspec": {
   "display_name": "base",
   "language": "python",
   "name": "python3"
  },
  "language_info": {
   "codemirror_mode": {
    "name": "ipython",
    "version": 3
   },
   "file_extension": ".py",
   "mimetype": "text/x-python",
   "name": "python",
   "nbconvert_exporter": "python",
   "pygments_lexer": "ipython3",
   "version": "3.11.7"
  }
 },
 "nbformat": 4,
 "nbformat_minor": 2
}
