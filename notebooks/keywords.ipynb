{
 "cells": [
  {
   "cell_type": "code",
   "execution_count": 1,
   "metadata": {},
   "outputs": [],
   "source": [
    "import sys\n",
    "import os\n",
    "import pandas as pd\n",
    "\n",
    "notebook_dir = os.path.dirname(os.path.abspath(\"__file__\"))\n",
    "modules_dir = os.path.join(os.path.dirname(notebook_dir), 'modules')\n",
    "\n",
    "if modules_dir not in sys.path:\n",
    "    sys.path.append(modules_dir)"
   ]
  },
  {
   "cell_type": "code",
   "execution_count": null,
   "metadata": {},
   "outputs": [],
   "source": [
    "from keyword_analysis import Keyword_Analysis\n",
    "from patent_descriptive import Patent_Descriptive\n",
    "\n",
    "# import dataset\n",
    "pd_data = pd.read_csv('../data/raw/patents.csv')\n",
    "# merge the dataset\n",
    "# create a Patent_Descriptive object \n",
    "pdt1 = Patent_Descriptive(data = pd_data)\n",
    "# reformat the dataset\n",
    "pdt1.reformat()\n",
    "\n",
    "assignee_data = pdt1.clean_by(pdt1.data, 'assigneeName')\n",
    "assignee_data = pdt1.dummy_by_time(data = assignee_data, column = 'datePublished', cutoff = '2000-01-01', dummy = 'dummy')\n",
    "assignee_2000s = assignee_data.loc[assignee_data['dummy'] == 0]"
   ]
  },
  {
   "cell_type": "code",
   "execution_count": 2,
   "metadata": {},
   "outputs": [],
   "source": [
    "# import packages\n",
    "import pandas as pd\n",
    "from keyword_analysis import Keyword_Analysis\n",
    "from patent_descriptive import Patent_Descriptive\n",
    "\n",
    "# import the dataset\n",
    "dataset = pd.read_csv('../data_large/df_descriptions.csv')\n"
   ]
  },
  {
   "cell_type": "code",
   "execution_count": 3,
   "metadata": {},
   "outputs": [
    {
     "name": "stdout",
     "output_type": "stream",
     "text": [
      "               guid abstractHtml  \\\n",
      "30000  US-3405448-A          NaN   \n",
      "30001  US-3405469-A          NaN   \n",
      "30002  US-3405470-A          NaN   \n",
      "30003  US-3405471-A          NaN   \n",
      "30004  US-3405599-A          NaN   \n",
      "\n",
      "                                         descriptionHtml  \n",
      "30000  (1) 3,405,448<br />DOVETAIL TYPE SCOPE MOUNT<b...  \n",
      "30001  (1) 3,405,469<br />COLUMN-MOUNTED PORTABLE FIR...  \n",
      "30002  (1) 3,405,470 PNEUMATIC RECOIL BUFFER ATT'ACHM...  \n",
      "30003  (1) 3,405,471<br />FIREARM HAVING DISCONNECTAB...  \n",
      "30004  (1) 3,405,599 W'EAPON STABIL.IZATION SYS5TEM R...  \n"
     ]
    }
   ],
   "source": [
    "# subset 10000:10040 rows\n",
    "dataset2 = dataset.loc[30000:30010,:]\n",
    "print(dataset2.head())\n",
    "# create an object\n",
    "KA = Keyword_Analysis(data=dataset2, num_keywords = 10)"
   ]
  },
  {
   "cell_type": "code",
   "execution_count": 6,
   "metadata": {},
   "outputs": [
    {
     "name": "stderr",
     "output_type": "stream",
     "text": [
      "100%|██████████| 11/11 [00:01<00:00,  7.54it/s]"
     ]
    },
    {
     "name": "stdout",
     "output_type": "stream",
     "text": [
      "Below are the top15 keywords\n",
      "0     [telescopic sight, bracket, clamping, clamping...\n",
      "1     [Compagnie Francaise Thomson, Thomson HoustonH...\n",
      "2     [piston, PNEUMATIC RECOIL BUFFER, recoil buffe...\n",
      "3     [breech bolt mechanism, Zavody Jana Svermy, re...\n",
      "4     [power control system, stabilization system, c...\n",
      "5     [FLYING BODY, BODY, FLYING, wave form, FLYING ...\n",
      "6     [corporate Filed Oct., NordAviation Societe Na...\n",
      "7     [FIG, TELESCOPE, block, receiver ring, pin, po...\n",
      "8     [Dynamit Nobel Aktiengesellschaft, Germany Fil...\n",
      "9     [bow section, FIGURE, Bert E. Fredrickson, ARR...\n",
      "10    [Joe Travis Dye, ARROW, arrow guide, Joe Travi...\n",
      "Name: keyword, dtype: object\n"
     ]
    },
    {
     "name": "stderr",
     "output_type": "stream",
     "text": [
      "\n"
     ]
    }
   ],
   "source": [
    "keyword = KA.get_keywords()\n",
    "print(\"Below are the top15 keywords\")\n",
    "print(keyword.keyword)"
   ]
  },
  {
   "cell_type": "code",
   "execution_count": null,
   "metadata": {},
   "outputs": [],
   "source": []
  }
 ],
 "metadata": {
  "kernelspec": {
   "display_name": "Python 3",
   "language": "python",
   "name": "python3"
  },
  "language_info": {
   "codemirror_mode": {
    "name": "ipython",
    "version": 3
   },
   "file_extension": ".py",
   "mimetype": "text/x-python",
   "name": "python",
   "nbconvert_exporter": "python",
   "pygments_lexer": "ipython3",
   "version": "3.11.8"
  }
 },
 "nbformat": 4,
 "nbformat_minor": 2
}
