{
 "cells": [
  {
   "cell_type": "markdown",
   "metadata": {},
   "source": [
    "# Functions in `get_data.py`\n",
    "Use the functions to subset the patents with requirements of your own"
   ]
  },
  {
   "cell_type": "code",
   "execution_count": 4,
   "metadata": {},
   "outputs": [],
   "source": [
    "import sys\n",
    "import os\n",
    "\n",
    "notebook_dir = os.path.dirname(os.path.abspath(\"__file__\"))\n",
    "modules_dir = os.path.join(os.path.dirname(notebook_dir), 'modules')\n",
    "\n",
    "if modules_dir not in sys.path:\n",
    "    sys.path.append(modules_dir)\n",
    "\n",
    "from get_data import *"
   ]
  },
  {
   "cell_type": "markdown",
   "metadata": {},
   "source": [
    "## 1. Subset the basic dataframe"
   ]
  },
  {
   "cell_type": "code",
   "execution_count": 5,
   "metadata": {},
   "outputs": [
    {
     "name": "stdout",
     "output_type": "stream",
     "text": [
      "the number of rows for all patents: 52417\n",
      "the number of rows for the subsetted patents: 1\n"
     ]
    }
   ],
   "source": [
    "all_patents = get_patents()\n",
    "print(f\"the number of rows for all patents: {len(all_patents)}\")\n",
    "\n",
    "ids = [\"US-20170067712-A9\"]\n",
    "subsetted_patents = get_patents(ids)\n",
    "print(f\"the number of rows for the subsetted patents: {len(subsetted_patents)}\")"
   ]
  },
  {
   "cell_type": "markdown",
   "metadata": {},
   "source": [
    "## 2. Get the patents related to citations"
   ]
  },
  {
   "cell_type": "code",
   "execution_count": 6,
   "metadata": {},
   "outputs": [
    {
     "name": "stdout",
     "output_type": "stream",
     "text": [
      "the number of rows for the patents that US-10921097-B1 cites: 14\n",
      "the number of rows for the patents that cited US-5992291-A: 9\n"
     ]
    }
   ],
   "source": [
    "referencing = (get_citations(\"US-10921097-B1\"))\n",
    "print(f\"the number of rows for the patents that US-10921097-B1 cites: {len(referencing)}\")\n",
    "\n",
    "being_referenced = (get_cited_by(\"US-5992291-A\"))\n",
    "print(f\"the number of rows for the patents that cited US-5992291-A: {len(being_referenced)}\")"
   ]
  },
  {
   "cell_type": "markdown",
   "metadata": {},
   "source": [
    "## 3. Subset patents with special requirements"
   ]
  },
  {
   "cell_type": "code",
   "execution_count": 7,
   "metadata": {},
   "outputs": [
    {
     "name": "stdout",
     "output_type": "stream",
     "text": [
      "the number of rows: 31382\n",
      "the number of rows: 152\n",
      "the number of rows: 1882\n",
      "the number of rows: 6\n",
      "the number of rows: 2463\n"
     ]
    }
   ],
   "source": [
    "requirements = (\"1950-01-01\", \"2015-12-31\")\n",
    "subset_by_date = subset_patents(\"datePublished\", requirements)\n",
    "print(f\"the number of rows: {len(subset_by_date)}\")\n",
    "\n",
    "requirements = [\"Richard L.\", \"Marshfield\"] \n",
    "subset_by_inventor = subset_patents(\"inventorsName\", requirements)\n",
    "print(f\"the number of rows: {len(subset_by_inventor)}\")\n",
    "\n",
    "requirements = [\"CT\", \"MA\"]\n",
    "subset_by_inventor_state = subset_patents(\"inventorState\", requirements)\n",
    "print(f\"the number of rows: {len(subset_by_inventor_state)}\")\n",
    "\n",
    "requirements = [\"ITT Corporation\"]\n",
    "subset_by_company = subset_patents(\"assigneeName\", requirements)\n",
    "print(f\"the number of rows: {len(subset_by_company)}\")\n",
    "\n",
    "requirements = [[\"F41\",\"A\",\"3\"], [\"F41\", \"C\", \"3\", \"14\"]]\n",
    "subset_by_cpc = subset_patents_by_cpc(requirements)\n",
    "print(f\"the number of rows: {len(subset_by_cpc)}\")"
   ]
  },
  {
   "cell_type": "code",
   "execution_count": null,
   "metadata": {},
   "outputs": [],
   "source": []
  },
  {
   "cell_type": "code",
   "execution_count": null,
   "metadata": {},
   "outputs": [],
   "source": []
  }
 ],
 "metadata": {
  "kernelspec": {
   "display_name": "Python 3",
   "language": "python",
   "name": "python3"
  },
  "language_info": {
   "codemirror_mode": {
    "name": "ipython",
    "version": 3
   },
   "file_extension": ".py",
   "mimetype": "text/x-python",
   "name": "python",
   "nbconvert_exporter": "python",
   "pygments_lexer": "ipython3",
   "version": "3.11.8"
  }
 },
 "nbformat": 4,
 "nbformat_minor": 2
}
